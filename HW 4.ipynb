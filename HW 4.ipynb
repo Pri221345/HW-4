{
 "cells": [
  {
   "cell_type": "markdown",
   "id": "727e23d7",
   "metadata": {},
   "source": [
    "\n",
    "Suppose you have three bills. Two are 10 dollar bills and the other one is a 100 dollar bill. Your friend puts each bill in a box. So one box has 100 dollar, and the other two boxes have 10 dollar each. You pick a box, let's say box 1, then your friend who knows what's inside the boxes, opens another box, say box 3, which has a 10 dollar bill. Do you want to stick your choice or switch to another box in order to get the 100 dollar bill? ( if the 100 is inside box 2 the friend must open box 3, but if the 100 is inside box 1 the friend can open either box 2 or 3.)\n",
    "\n"
   ]
  },
  {
   "cell_type": "code",
   "execution_count": 8,
   "id": "1eeba00c",
   "metadata": {},
   "outputs": [
    {
     "data": {
      "image/png": "[encoded data removed]",
      "text/plain": [
       "<Figure size 640x480 with 1 Axes>"
      ]
     },
     "metadata": {},
     "output_type": "display_data"
    },
    {
     "name": "stdout",
     "output_type": "stream",
     "text": [
      "Choice to stick Probability: 0.333087\n",
      "Choice to switch another Probability: 0.666366\n"
     ]
    }
   ],
   "source": [
    "import random, matplotlib.pyplot as plt\n",
    "def simulate_game(switch):\n",
    "    boxes = ['box1', 'box2', 'box3']\n",
    "    random.shuffle(boxes)  # Shuffling the boxes\n",
    "    # Choosing a random box\n",
    "    chosen_box = boxes.pop(random.randint(0, 2))  \n",
    "    if chosen_box == 'box1':\n",
    "        # If the box1 is chosen , then friend can open either box2 or box3\n",
    "        boxes.remove(random.choice(['box2', 'box3']))\n",
    "    elif chosen_box == 'box2':\n",
    "        boxes.remove('box3')\n",
    "    else:\n",
    "        boxes.remove('box2')\n",
    "    if switch:\n",
    "        chosen_box = boxes[0]\n",
    "    return chosen_box == 'box1'\n",
    "simulations = 1000000 # Using Monte Carlo\n",
    "stick_wins = 0\n",
    "switch_wins = 0\n",
    "for _ in range(simulations):\n",
    "    if simulate_game(switch=False):\n",
    "        stick_wins += 1\n",
    "    if simulate_game(switch=True):\n",
    "        switch_wins += 1\n",
    "stick_p = stick_wins / simulations\n",
    "switch_p = switch_wins / simulations\n",
    "labels = ['Stick', 'Switch']\n",
    "probabilities = [stick_p, switch_p]\n",
    "plt.bar(labels, probabilities)\n",
    "plt.xlabel('Strategy')\n",
    "plt.ylabel('Probability of Winning')\n",
    "plt.title('Results of Monte Carlo Simulation')\n",
    "plt.ylim([0, 1])\n",
    "plt.show()\n",
    "print(\"Choice to stick Probability:\", stick_p)\n",
    "print(\"Choice to switch another Probability:\", switch_p)\n"
   ]
  },
  {
   "cell_type": "markdown",
   "id": "f249d85a",
   "metadata": {},
   "source": [
    "Use the Monte Carlo method to get integral for ∫[0, 1] x * cos(71x) + sin(13x)) dx"
   ]
  },
  {
   "cell_type": "code",
   "execution_count": 13,
   "id": "2f756fbe",
   "metadata": {},
   "outputs": [
    {
     "name": "stdout",
     "output_type": "stream",
     "text": [
      "Approximate value of integral: 0.019796669787240265\n"
     ]
    }
   ],
   "source": [
    "import random\n",
    "import math\n",
    "\n",
    "def f(x):\n",
    "    return x * math.cos(71 * x) + math.sin(13 * x)\n",
    "\n",
    "def monte_carlo_integration(num_samples):\n",
    "    samples = [f(random.uniform(0, 1)) for _ in range(number_samples)]\n",
    "    avg = sum(samples) / number_samples\n",
    "    integral = avg * 1  # To Multiplye by the length of the interval [0, 1]\n",
    "    return integral\n",
    "\n",
    "# Using Monte Carlo integration\n",
    "number_samples = 1000000\n",
    "approx_integral = monte_carlo_integration(number_samples)\n",
    "print(\"Approximate value of integral:\", approx_integral)#  using Monte Carlo to find the value of integral"
   ]
  },
  {
   "cell_type": "code",
   "execution_count": null,
   "id": "2173c73f",
   "metadata": {},
   "outputs": [],
   "source": []
  }
 ],
 "metadata": {
  "kernelspec": {
   "display_name": "Python 3 (ipykernel)",
   "language": "python",
   "name": "python3"
  },
  "language_info": {
   "codemirror_mode": {
    "name": "ipython",
    "version": 3
   },
   "file_extension": ".py",
   "mimetype": "text/x-python",
   "name": "python",
   "nbconvert_exporter": "python",
   "pygments_lexer": "ipython3",
   "version": "3.10.9"
  }
 },
 "nbformat": 4,
 "nbformat_minor": 5
}
